{
 "cells": [
  {
   "cell_type": "markdown",
   "metadata": {},
   "source": [
    "##### 1. Define a Circle class to create a circle with radius r using constructor\n",
    "\n",
    "##### 2. Define Area method to calculate the area of circle.\n",
    "\n",
    "##### 3. Also Define perimmetr of Circle"
   ]
  },
  {
   "cell_type": "code",
   "execution_count": 5,
   "metadata": {},
   "outputs": [
    {
     "name": "stdout",
     "output_type": "stream",
     "text": [
      "1386.0\n",
      "132.0\n"
     ]
    }
   ],
   "source": [
    "class Circle:\n",
    "    def __init__(self,radius):\n",
    "        self.radius = radius\n",
    "    \n",
    "    def area(self):\n",
    "        return (22/7) * self.radius ** 2\n",
    "    \n",
    "    def perimeter(self):\n",
    "        return 2 * (22/7) * self.radius\n",
    "      \n",
    "c1 = Circle(21)\n",
    "print(c1.area())\n",
    "print(c1.perimeter())"
   ]
  },
  {
   "cell_type": "markdown",
   "metadata": {},
   "source": [
    "##### Q. Define a Employee class with attributes role,department, and salary. this class is showDetails() method"
   ]
  },
  {
   "cell_type": "code",
   "execution_count": 6,
   "metadata": {},
   "outputs": [
    {
     "name": "stdout",
     "output_type": "stream",
     "text": [
      "Role: Engineer\n",
      "dept: HR\n",
      "salary: 75000\n"
     ]
    }
   ],
   "source": [
    "class Employee:\n",
    "    def __init__(self,role,dept,salary):\n",
    "        self.role = role\n",
    "        self.dept = dept \n",
    "        self.salary = salary\n",
    "        \n",
    "    def showDetails(self):\n",
    "        print(\"Role:\",self.role)\n",
    "        print(\"dept:\",self.dept)\n",
    "        print(\"salary:\",self.salary)\n",
    "        \n",
    "s1 = Employee(\"Engineer\",\"HR\",75000)\n",
    "s1.showDetails()        "
   ]
  },
  {
   "cell_type": "markdown",
   "metadata": {},
   "source": [
    "##### Q. Create an engineer class that inherits properties from employee & has additional attributes: name & age"
   ]
  },
  {
   "cell_type": "code",
   "execution_count": 12,
   "metadata": {},
   "outputs": [
    {
     "name": "stdout",
     "output_type": "stream",
     "text": [
      "Role: <__main__.Engineer object at 0x000001F29C0EBDD0>\n",
      "dept: Elon Musk\n",
      "salary: 40\n"
     ]
    }
   ],
   "source": [
    "class Employee:\n",
    "    def __init__(self,role,dept,salary):\n",
    "        self.role = role\n",
    "        self.dept = dept \n",
    "        self.salary = salary\n",
    "        \n",
    "    def showDetails(self):\n",
    "        print(\"Role:\",self.role)\n",
    "        print(\"dept:\",self.dept)\n",
    "        print(\"salary:\",self.salary)\n",
    "        \n",
    "class Engineer(Employee):\n",
    "    def __init__(self,name,age):\n",
    "        self.name = name\n",
    "        self.age = age\n",
    "        super().__init__(self,name,age)\n",
    "        \n",
    "engg1 =  Engineer(\"Elon Musk\",40)\n",
    "engg1.showDetails()     "
   ]
  },
  {
   "cell_type": "markdown",
   "metadata": {},
   "source": [
    "##### Create a class called Order which stores item & its price.Use Dunder function __gt__() to convey that: order1>order2 if price of order1 > price of order2"
   ]
  },
  {
   "cell_type": "code",
   "execution_count": null,
   "metadata": {},
   "outputs": [],
   "source": [
    "class Order:\n",
    "    def __init__(self,item,price):\n",
    "        self.item = item\n",
    "        self.price = price\n",
    "        \n",
    "    def __gt__(self,odr2):\n",
    "        return self.price > odr2.price\n",
    "\n",
    "odr1 = Order(\"chips\",20)\n",
    "odr2 = Order(\"tea\",30)\n",
    "\n",
    "print(odr1 > odr2)\n"
   ]
  }
 ],
 "metadata": {
  "kernelspec": {
   "display_name": "Python 3",
   "language": "python",
   "name": "python3"
  },
  "language_info": {
   "codemirror_mode": {
    "name": "ipython",
    "version": 3
   },
   "file_extension": ".py",
   "mimetype": "text/x-python",
   "name": "python",
   "nbconvert_exporter": "python",
   "pygments_lexer": "ipython3",
   "version": "3.12.6"
  }
 },
 "nbformat": 4,
 "nbformat_minor": 2
}
